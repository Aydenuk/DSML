{
 "cells": [
  {
   "cell_type": "markdown",
   "id": "737a941b-f607-466c-b6b7-325d30eec083",
   "metadata": {},
   "source": [
    "Import data"
   ]
  },
  {
   "cell_type": "code",
   "execution_count": null,
   "id": "191d5977-6ec3-4e8a-8dc4-2cfd3e150119",
   "metadata": {},
   "outputs": [],
   "source": [
    "import kagglehub\n",
    "\n",
    "# Download latest version\n",
    "path = kagglehub.dataset_download(\"fedesoriano/heart-failure-prediction\")\n",
    "\n",
    "print(\"Path to dataset files:\", path)"
   ]
  },
  {
   "cell_type": "markdown",
   "id": "bc249162-c265-42f4-9149-75c73f02866c",
   "metadata": {},
   "source": [
    "Preprocessing"
   ]
  },
  {
   "cell_type": "code",
   "execution_count": null,
   "id": "6df674b2-8f14-43fb-a229-47457bbd3e0c",
   "metadata": {},
   "outputs": [],
   "source": []
  },
  {
   "cell_type": "markdown",
   "id": "e008f57d-ff31-4803-952d-0863a4001349",
   "metadata": {},
   "source": [
    "Exploratory Data Analysis "
   ]
  },
  {
   "cell_type": "code",
   "execution_count": null,
   "id": "eb16fa21-0ab1-422d-8a11-7aef4b38f2a6",
   "metadata": {},
   "outputs": [],
   "source": []
  },
  {
   "cell_type": "raw",
   "id": "a153877d-4494-41af-b381-c5e72363377b",
   "metadata": {},
   "source": [
    "Model Analysis "
   ]
  },
  {
   "cell_type": "code",
   "execution_count": null,
   "id": "80d73a39-f0a2-460d-81a6-82dfadf9b649",
   "metadata": {},
   "outputs": [],
   "source": []
  },
  {
   "cell_type": "code",
   "execution_count": null,
   "id": "e47a2fe7-ab54-4d7b-bf57-4e57e5a2a520",
   "metadata": {},
   "outputs": [],
   "source": [
    "Model evaluation"
   ]
  }
 ],
 "metadata": {
  "kernelspec": {
   "display_name": "Python 3 (ipykernel)",
   "language": "python",
   "name": "python3"
  },
  "language_info": {
   "codemirror_mode": {
    "name": "ipython",
    "version": 3
   },
   "file_extension": ".py",
   "mimetype": "text/x-python",
   "name": "python",
   "nbconvert_exporter": "python",
   "pygments_lexer": "ipython3",
   "version": "3.9.21"
  }
 },
 "nbformat": 4,
 "nbformat_minor": 5
}
