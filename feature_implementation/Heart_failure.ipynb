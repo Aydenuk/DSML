{
 "cells": [
  {
   "cell_type": "markdown",
   "id": "737a941b-f607-466c-b6b7-325d30eec083",
   "metadata": {},
   "source": [
    "Import data"
   ]
  },
  {
   "cell_type": "code",
   "execution_count": 11,
   "id": "64c4bd1a-c3c3-4dd5-b2bb-7fe05b4368cc",
   "metadata": {},
   "outputs": [
    {
     "name": "stdout",
     "output_type": "stream",
     "text": [
      "数据加载成功，形状: (918, 12)\n"
     ]
    }
   ],
   "source": [
    "import pandas as pd\n",
    "from sklearn.preprocessing import StandardScaler, LabelEncoder\n",
    "from sklearn.model_selection import train_test_split\n",
    "import os\n",
    "from IPython.display import display\n",
    "\n",
    "# 回退到上一级目录访问数据集\n",
    "data_file = os.path.join(os.getcwd(), '..', 'data', 'heart.csv')\n",
    "\n",
    "# 检查数据文件是否存在\n",
    "if not os.path.exists(data_file):\n",
    "    display(f\"数据文件未找到: {data_file}\")\n",
    "else:\n",
    "    # 加载数据\n",
    "    try:\n",
    "        data = pd.read_csv(data_file)\n",
    "        print(f\"数据加载成功，形状: {data.shape}\") # 预期是（918，12）\n",
    "    except Exception as e:\n",
    "        display(f\"加载数据时出现错误: {e}\")"
   ]
  },
  {
   "cell_type": "markdown",
   "id": "bc249162-c265-42f4-9149-75c73f02866c",
   "metadata": {},
   "source": [
    "Preprocessing"
   ]
  },
  {
   "cell_type": "code",
   "execution_count": 15,
   "id": "6df674b2-8f14-43fb-a229-47457bbd3e0c",
   "metadata": {},
   "outputs": [
    {
     "name": "stdout",
     "output_type": "stream",
     "text": [
      "异常值处理完成\n",
      "异常值处理完成：替换了0个血压0值，0个胆固醇0值\n",
      "类别特征编码完成\n",
      "数值特征标准化完成\n",
      "数据集划分完成：\n",
      "训练集 (734, 11) (80.0%)\n",
      "验证集 (92, 11) (10.0%)\n",
      "测试集 (92, 11) (10.0%)\n"
     ]
    }
   ],
   "source": [
    "\n",
    "    # 异常值处理\n",
    "    '''\n",
    "    deng.wei: 血压和胆固醇为0不符合常理\n",
    "    '''\n",
    "    bp_zero_count = (data['RestingBP'] == 0).sum()\n",
    "    chol_zero_count = (data['Cholesterol'] == 0).sum()\n",
    "    data['RestingBP'] = data['RestingBP'].replace(0, data['RestingBP'].median())\n",
    "    data['Cholesterol'] = data['Cholesterol'].replace(0, data['Cholesterol'].median())\n",
    "    print(\"异常值处理完成\")\n",
    "    print(f\"异常值处理完成：替换了{bp_zero_count}个血压0值，{chol_zero_count}个胆固醇0值\")\n",
    "\n",
    "    # 类别编码\n",
    "    categorical_cols = ['Sex', 'ChestPainType', 'RestingECG', 'ExerciseAngina', 'ST_Slope']\n",
    "\n",
    "    for col in categorical_cols:\n",
    "        le = LabelEncoder()\n",
    "        data[col] = le.fit_transform(data[col])\n",
    "    print(\"类别特征编码完成\")\n",
    "\n",
    "    # 标准化数值特征（\n",
    "    numerical_cols = ['Age', 'RestingBP', 'Cholesterol', 'MaxHR', 'Oldpeak']\n",
    "    scaler = StandardScaler()\n",
    "    data[numerical_cols] = scaler.fit_transform(data[numerical_cols])\n",
    "    print(\"数值特征标准化完成\")\n",
    "\n",
    "    # 数据集划分\n",
    "    X = data.drop('HeartDisease', axis=1)\n",
    "    y = data['HeartDisease']\n",
    "    \n",
    "    # 首先划分训练集和临时集（80%训练，20%临时）\n",
    "    X_train, X_temp, y_train, y_temp = train_test_split(\n",
    "        X, y, \n",
    "        test_size=0.2, \n",
    "        random_state=42, \n",
    "        stratify=y\n",
    "    )\n",
    "    \n",
    "    # 然后从临时集划分验证集和测试集（各占一半，即各10%原始数据）\n",
    "    X_val, X_test, y_val, y_test = train_test_split(\n",
    "        X_temp, y_temp, \n",
    "        test_size=0.5, \n",
    "        random_state=42, \n",
    "        stratify=y_temp\n",
    "    )\n",
    "    \n",
    "    print(f\"数据集划分完成：\")\n",
    "    print(f\"训练集 {X_train.shape} ({len(X_train)/len(X):.1%})\")\n",
    "    print(f\"验证集 {X_val.shape} ({len(X_val)/len(X):.1%})\")\n",
    "    print(f\"测试集 {X_test.shape} ({len(X_test)/len(X):.1%})\")"
   ]
  },
  {
   "cell_type": "markdown",
   "id": "e008f57d-ff31-4803-952d-0863a4001349",
   "metadata": {},
   "source": [
    "Exploratory Data Analysis "
   ]
  },
  {
   "cell_type": "raw",
   "id": "a153877d-4494-41af-b381-c5e72363377b",
   "metadata": {},
   "source": [
    "Model Analysis "
   ]
  },
  {
   "cell_type": "code",
   "execution_count": null,
   "id": "80d73a39-f0a2-460d-81a6-82dfadf9b649",
   "metadata": {},
   "outputs": [],
   "source": []
  },
  {
   "cell_type": "code",
   "execution_count": null,
   "id": "e47a2fe7-ab54-4d7b-bf57-4e57e5a2a520",
   "metadata": {},
   "outputs": [],
   "source": [
    "Model evaluation"
   ]
  },
  {
   "cell_type": "code",
   "execution_count": null,
   "id": "01f7c4d9-0cd1-4287-ae1e-b8989f50f083",
   "metadata": {},
   "outputs": [],
   "source": []
  }
 ],
 "metadata": {
  "kernelspec": {
   "display_name": "Python 3 (ipykernel)",
   "language": "python",
   "name": "python3"
  },
  "language_info": {
   "codemirror_mode": {
    "name": "ipython",
    "version": 3
   },
   "file_extension": ".py",
   "mimetype": "text/x-python",
   "name": "python",
   "nbconvert_exporter": "python",
   "pygments_lexer": "ipython3",
   "version": "3.9.21"
  }
 },
 "nbformat": 4,
 "nbformat_minor": 5
}
